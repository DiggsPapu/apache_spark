{
 "cells": [
  {
   "cell_type": "markdown",
   "id": "e2c6ce4e",
   "metadata": {},
   "source": [
    "# Ejercicio aplicado de DataFrames y Spark SQL"
   ]
  },
  {
   "cell_type": "code",
   "execution_count": 1,
   "id": "6444aae7",
   "metadata": {},
   "outputs": [],
   "source": [
    "import findspark\n",
    "findspark.init()\n",
    "\n",
    "import pandas as pd\n",
    "import pyspark"
   ]
  },
  {
   "cell_type": "code",
   "execution_count": 2,
   "id": "2a099cd1",
   "metadata": {},
   "outputs": [],
   "source": [
    "from pyspark.sql import SparkSession\n",
    "\n",
    "spark = SparkSession.builder\\\n",
    "        .master(\"local[*]\")\\\n",
    "        .appName('PySpark_Df')\\\n",
    "        .getOrCreate()"
   ]
  },
  {
   "cell_type": "code",
   "execution_count": 1,
   "id": "652d0228",
   "metadata": {},
   "outputs": [],
   "source": [
    "## Importa el csv de \"data/WorldCupPlayers.csv\"\n",
    "## Visualiza los datos"
   ]
  },
  {
   "cell_type": "code",
   "execution_count": 2,
   "id": "74516118",
   "metadata": {},
   "outputs": [],
   "source": [
    "## ¿que tipo de datos contiene cada variable?"
   ]
  },
  {
   "cell_type": "code",
   "execution_count": 3,
   "id": "58248b51",
   "metadata": {},
   "outputs": [],
   "source": [
    "## ¿Cuantos registros hay?"
   ]
  },
  {
   "cell_type": "code",
   "execution_count": 4,
   "id": "514be43a",
   "metadata": {},
   "outputs": [],
   "source": [
    "## Obtén los principales estadísticos de Position"
   ]
  },
  {
   "cell_type": "code",
   "execution_count": 5,
   "id": "c2b86748",
   "metadata": {},
   "outputs": [],
   "source": [
    "## Slecciona y muestra los registros distintos de 'Player Name','Coach Name'"
   ]
  },
  {
   "cell_type": "code",
   "execution_count": 10,
   "id": "74d787f0",
   "metadata": {},
   "outputs": [
    {
     "data": {
      "text/plain": [
       "33"
      ]
     },
     "execution_count": 10,
     "metadata": {},
     "output_type": "execute_result"
    }
   ],
   "source": [
    "## ¿\n",
    "fifa_df.filter(fifa_df.MatchID =='1096').count()"
   ]
  },
  {
   "cell_type": "code",
   "execution_count": 14,
   "id": "a4d33331",
   "metadata": {},
   "outputs": [
    {
     "name": "stdout",
     "output_type": "stream",
     "text": [
      "+-------+-------+-------------+--------------------+-------+------------+----------------+--------+-----+\n",
      "|RoundID|MatchID|Team Initials|          Coach Name|Line-up|Shirt Number|     Player Name|Position|Event|\n",
      "+-------+-------+-------------+--------------------+-------+------------+----------------+--------+-----+\n",
      "|    201|   1089|          PAR|DURAND LAGUNA Jos...|      S|           0|Luis VARGAS PENA|       C| G40'|\n",
      "|    429|   1175|          HUN|  DIETZ Karoly (HUN)|      S|           0|   Gyorgy SAROSI|       C| G40'|\n",
      "+-------+-------+-------------+--------------------+-------+------------+----------------+--------+-----+\n",
      "\n"
     ]
    }
   ],
   "source": [
    "fifa_df.filter((fifa_df.Position == 'C') & (fifa_df.Event==\"G40'\")).show()"
   ]
  },
  {
   "cell_type": "code",
   "execution_count": 17,
   "id": "f4a2c096",
   "metadata": {},
   "outputs": [
    {
     "name": "stdout",
     "output_type": "stream",
     "text": [
      "+-------+-------+-------------+-------------------+-------+------------+-----------------+--------+---------+\n",
      "|RoundID|MatchID|Team Initials|         Coach Name|Line-up|Shirt Number|      Player Name|Position|    Event|\n",
      "+-------+-------+-------------+-------------------+-------+------------+-----------------+--------+---------+\n",
      "|    201|   1096|          FRA|CAUDRON Raoul (FRA)|      S|           0|      Alex THEPOT|      GK|     null|\n",
      "|    201|   1096|          MEX|   LUQUE Juan (MEX)|      S|           0|  Oscar BONFIGLIO|      GK|     null|\n",
      "|    201|   1096|          FRA|CAUDRON Raoul (FRA)|      S|           0| Marcel LANGILLER|    null|     G40'|\n",
      "|    201|   1096|          MEX|   LUQUE Juan (MEX)|      S|           0|     Juan CARRENO|    null|     G70'|\n",
      "|    201|   1096|          FRA|CAUDRON Raoul (FRA)|      S|           0|  Ernest LIBERATI|    null|     null|\n",
      "|    201|   1096|          MEX|   LUQUE Juan (MEX)|      S|           0|     Rafael GARZA|       C|     null|\n",
      "|    201|   1096|          FRA|CAUDRON Raoul (FRA)|      S|           0|  Andre MASCHINOT|    null|G43' G87'|\n",
      "|    201|   1096|          MEX|   LUQUE Juan (MEX)|      S|           0|    Hilario LOPEZ|    null|     null|\n",
      "|    201|   1096|          FRA|CAUDRON Raoul (FRA)|      S|           0|  Etienne MATTLER|    null|     null|\n",
      "|    201|   1096|          MEX|   LUQUE Juan (MEX)|      S|           0|   Dionisio MEJIA|    null|     null|\n",
      "|    201|   1096|          FRA|CAUDRON Raoul (FRA)|      S|           0|     Marcel PINEL|    null|     null|\n",
      "|    201|   1096|          MEX|   LUQUE Juan (MEX)|      S|           0|     Felipe ROSAS|    null|     null|\n",
      "|    201|   1096|          FRA|CAUDRON Raoul (FRA)|      S|           0|  Alex VILLAPLANE|       C|     null|\n",
      "|    201|   1096|          MEX|   LUQUE Juan (MEX)|      S|           0|     Manuel ROSAS|    null|     null|\n",
      "|    201|   1096|          FRA|CAUDRON Raoul (FRA)|      S|           0|   Lucien LAURENT|    null|     G19'|\n",
      "|    201|   1096|          MEX|   LUQUE Juan (MEX)|      S|           0|        Jose RUIZ|    null|     null|\n",
      "|    201|   1096|          FRA|CAUDRON Raoul (FRA)|      S|           0|   Marcel CAPELLE|    null|     null|\n",
      "|    201|   1096|          MEX|   LUQUE Juan (MEX)|      S|           0|  Alfredo SANCHEZ|    null|     null|\n",
      "|    201|   1096|          FRA|CAUDRON Raoul (FRA)|      S|           0|Augustin CHANTREL|    null|     null|\n",
      "|    201|   1096|          MEX|   LUQUE Juan (MEX)|      S|           0|   Efrain AMEZCUA|    null|     null|\n",
      "+-------+-------+-------------+-------------------+-------+------------+-----------------+--------+---------+\n",
      "only showing top 20 rows\n",
      "\n"
     ]
    }
   ],
   "source": [
    "fifa_df.createOrReplaceTempView(\"temp_table\")\n",
    "\n",
    "spark.sql(\"select * from temp_table where MatchID >= 20\").show()"
   ]
  },
  {
   "cell_type": "code",
   "execution_count": null,
   "id": "fa84761c",
   "metadata": {},
   "outputs": [],
   "source": []
  }
 ],
 "metadata": {
  "kernelspec": {
   "display_name": "Python 3 (ipykernel)",
   "language": "python",
   "name": "python3"
  },
  "language_info": {
   "codemirror_mode": {
    "name": "ipython",
    "version": 3
   },
   "file_extension": ".py",
   "mimetype": "text/x-python",
   "name": "python",
   "nbconvert_exporter": "python",
   "pygments_lexer": "ipython3",
   "version": "3.8.12"
  }
 },
 "nbformat": 4,
 "nbformat_minor": 5
}
