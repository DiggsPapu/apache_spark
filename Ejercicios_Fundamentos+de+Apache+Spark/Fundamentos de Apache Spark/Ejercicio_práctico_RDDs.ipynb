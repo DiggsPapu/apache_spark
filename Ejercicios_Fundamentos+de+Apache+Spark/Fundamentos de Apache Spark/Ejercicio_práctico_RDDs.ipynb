{
 "cells": [
  {
   "cell_type": "markdown",
   "id": "22bc4d93",
   "metadata": {},
   "source": [
    "# Ejercicio Práctico RDDs"
   ]
  },
  {
   "cell_type": "markdown",
   "metadata": {},
   "source": [
    "Diego Andrés Alonzo Medinilla"
   ]
  },
  {
   "cell_type": "code",
   "execution_count": null,
   "metadata": {},
   "outputs": [],
   "source": [
    "%pip install findspark\n",
    "%pip install pyspark"
   ]
  },
  {
   "cell_type": "code",
   "execution_count": null,
   "id": "c1a214d6",
   "metadata": {},
   "outputs": [],
   "source": [
    "import findspark\n",
    "findspark.init()\n",
    "\n",
    "import pandas as pd\n",
    "import pyspark\n",
    "from pyspark.sql import SparkSession"
   ]
  },
  {
   "cell_type": "code",
   "execution_count": null,
   "id": "bd8b0d7c",
   "metadata": {},
   "outputs": [],
   "source": [
    "spark = SparkSession.builder.getOrCreate()\n",
    "sc = spark.sparkContext"
   ]
  },
  {
   "cell_type": "code",
   "execution_count": null,
   "id": "1479e36b",
   "metadata": {},
   "outputs": [],
   "source": [
    "## Genera un RDD (newRDD) con la siguiente lista [1, 2, 3, 4, 5]\n",
    "newRDD = sc.parallelize([1,2,3,4,5])\n",
    "newRDD.collect()"
   ]
  },
  {
   "cell_type": "code",
   "execution_count": null,
   "id": "9bc25ae9",
   "metadata": {},
   "outputs": [],
   "source": [
    "## Multiplica por 2 todos los elementos del RDD anterior\n",
    "multiply2 = newRDD.map(lambda x: x*2)\n",
    "multiply2.collect()"
   ]
  },
  {
   "cell_type": "code",
   "execution_count": null,
   "id": "a047081a",
   "metadata": {},
   "outputs": [],
   "source": [
    "data= [1, 2, 3, 4, 5, 6]\n",
    "\n",
    "myRDD= sc.parallelize(data)\n",
    "\n",
    "## Filtra el RDD anterior por los elementos pares\n",
    "pairs = myRDD.filter(lambda x: x%2==0)\n",
    "pairs.collect()"
   ]
  },
  {
   "cell_type": "code",
   "execution_count": null,
   "id": "aeb368f0",
   "metadata": {},
   "outputs": [],
   "source": [
    "## Muestra los elementos unicos del RDD\n",
    "distintos = myRDD.distinct()\n",
    "distintos.collect()"
   ]
  },
  {
   "cell_type": "code",
   "execution_count": null,
   "id": "787c7986",
   "metadata": {},
   "outputs": [],
   "source": [
    "from operator import add\n",
    "\n",
    "myRDD = sc.parallelize([('a', 1), ('a', 2), ('a', 3), ('b', 1)])\n",
    "\n",
    "## Obten la suma de los valores agrupados por el key\n",
    "\n",
    "reduceBy = myRDD.reduceByKey(add)\n",
    "reduceBy.collect()"
   ]
  },
  {
   "cell_type": "code",
   "execution_count": null,
   "id": "5133d6f2",
   "metadata": {},
   "outputs": [],
   "source": [
    "## Ordena los RDDs en base al key\n",
    "sortBy = myRDD.sortByKey(True)\n",
    "sortBy.collect()"
   ]
  },
  {
   "cell_type": "code",
   "execution_count": null,
   "id": "f0cea10a",
   "metadata": {},
   "outputs": [],
   "source": [
    "data= [1, 2, 3, 4, 5]\n",
    "myRDD= sc.parallelize(data)\n",
    "## Toma los elementos del RDD para multiplicarlos entre si y obtener un resultado\n",
    "value = myRDD.reduce(lambda x,y: x*y)\n",
    "print(value)"
   ]
  },
  {
   "cell_type": "code",
   "execution_count": null,
   "id": "b6139be0",
   "metadata": {},
   "outputs": [],
   "source": [
    "data= ['Python', 'Scala', 'Python', 'R', 'Python', 'Java', 'R' ]\n",
    "\n",
    "myRDD= sc.parallelize(data)\n",
    "\n",
    "## Cuenta cuantas veces aparece cada valor\n",
    "# Notese que lo que retorna countByValue es un diccionario, por ello es que se le hace .items para que muestre las tuplas.\n",
    "myRDD.countByValue().items()"
   ]
  },
  {
   "cell_type": "code",
   "execution_count": null,
   "id": "633f7716",
   "metadata": {},
   "outputs": [],
   "source": [
    "data= [('a', 1), ('b', 1), ('c', 1), ('a', 1)]\n",
    "myRDD = sc.parallelize(data)\n",
    "\n",
    "## Cuenta cuantas veces aparece cada una de las keys\n",
    "# Notese que retorna un diccionario, por lo que el .items hace que retornen las tuplas.\n",
    "myRDD.countByKey().items()"
   ]
  }
 ],
 "metadata": {
  "kernelspec": {
   "display_name": "Python 3 (ipykernel)",
   "language": "python",
   "name": "python3"
  },
  "language_info": {
   "codemirror_mode": {
    "name": "ipython",
    "version": 3
   },
   "file_extension": ".py",
   "mimetype": "text/x-python",
   "name": "python",
   "nbconvert_exporter": "python",
   "pygments_lexer": "ipython3",
   "version": "3.11.5"
  }
 },
 "nbformat": 4,
 "nbformat_minor": 5
}
